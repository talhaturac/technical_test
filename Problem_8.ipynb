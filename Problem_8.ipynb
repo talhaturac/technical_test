{
 "cells": [
  {
   "cell_type": "markdown",
   "id": "b28fe844",
   "metadata": {},
   "source": [
    "Problem 8 - Largest Product in a Series\n",
    "\n",
    "The four adjacent digits in the 1000-digit number that have the greatest product are 9 x 9 x 8 x 9 = 5832.\n",
    "\n",
    "73167176531330624919225119674426574742355349194934\n",
    "96983520312774506326239578318016984801869478851843\n",
    "85861560789112949495459501737958331952853208805511\n",
    "12540698747158523863050715693290963295227443043557\n",
    "66896648950445244523161731856403098711121722383113\n",
    "62229893423380308135336276614282806444486645238749\n",
    "30358907296290491560440772390713810515859307960866\n",
    "70172427121883998797908792274921901699720888093776\n",
    "65727333001053367881220235421809751254540594752243\n",
    "52584907711670556013604839586446706324415722155397\n",
    "53697817977846174064955149290862569321978468622482\n",
    "83972241375657056057490261407972968652414535100474\n",
    "82166370484403199890008895243450658541227588666881\n",
    "16427171479924442928230863465674813919123162824586\n",
    "17866458359124566529476545682848912883142607690042\n",
    "24219022671055626321111109370544217506941658960408\n",
    "07198403850962455444362981230987879927244284909188\n",
    "84580156166097919133875499200524063689912560717606\n",
    "05886116467109405077541002256983155200055935729725\n",
    "71636269561882670428252483600823257530420752963450\n",
    "\n",
    "Find the thirteen adjacent digits in the 1000-digit number that have the greatest product.\n",
    "What is the value of this product?\n",
    "\n",
    "(Talha Turaç TÜRK - Acrux Technical Interview)"
   ]
  },
  {
   "cell_type": "code",
   "execution_count": 1,
   "id": "e3040df9",
   "metadata": {},
   "outputs": [
    {
     "name": "stdout",
     "output_type": "stream",
     "text": [
      "En Buyuk Carpim\t\t: 23514624000\n",
      "Value of This Product\t: 23514624000\n"
     ]
    }
   ],
   "source": [
    "number = '''    \n",
    "         73167176531330624919225119674426574742355349194934\n",
    "         96983520312774506326239578318016984801869478851843\n",
    "         85861560789112949495459501737958331952853208805511\n",
    "         12540698747158523863050715693290963295227443043557\n",
    "         66896648950445244523161731856403098711121722383113\n",
    "         62229893423380308135336276614282806444486645238749\n",
    "         30358907296290491560440772390713810515859307960866\n",
    "         70172427121883998797908792274921901699720888093776\n",
    "         65727333001053367881220235421809751254540594752243\n",
    "         52584907711670556013604839586446706324415722155397\n",
    "         53697817977846174064955149290862569321978468622482\n",
    "         83972241375657056057490261407972968652414535100474\n",
    "         82166370484403199890008895243450658541227588666881\n",
    "         16427171479924442928230863465674813919123162824586\n",
    "         17866458359124566529476545682848912883142607690042\n",
    "         24219022671055626321111109370544217506941658960408\n",
    "         07198403850962455444362981230987879927244284909188\n",
    "         84580156166097919133875499200524063689912560717606\n",
    "         05886116467109405077541002256983155200055935729725\n",
    "         71636269561882670428252483600823257530420752963450\n",
    "         '''\n",
    "\n",
    "# Gereksiz boşluk ve yeni satır karakterleri kaldırılır\n",
    "number = number.replace('\\n', '').replace('\\t', '').replace(' ', '')\n",
    "\n",
    "highest_sum = 0\n",
    "first_bit   = 0\n",
    "last_bit    = 13\n",
    "\n",
    "while last_bit <= len(number):  # Döngü sınırı sayının uzunluğuna göre ayarlanır\n",
    "    current13 = []\n",
    "\n",
    "    # Mevcut 13 basamağı al\n",
    "    for i in range(first_bit, last_bit):\n",
    "        current13.append(int(number[i]))\n",
    "\n",
    "    # Başlangıç ve bitiş indekslerini bir sonraki gruba kaydır\n",
    "    first_bit += 1\n",
    "    last_bit += 1\n",
    "\n",
    "    # 13 basamağın çarpımı hesaplanır ve product'a atanır\n",
    "    product = 1\n",
    "    for i in current13:\n",
    "        product *= i\n",
    "\n",
    "    # En yüksek çarpımı güncelle\n",
    "    if product > highest_sum:\n",
    "        highest_sum = product\n",
    "\n",
    "print(\"En Buyuk Carpim\\t\\t:\", highest_sum)\n",
    "print(\"Value of This Product\\t:\", highest_sum)"
   ]
  },
  {
   "cell_type": "code",
   "execution_count": null,
   "id": "52941169",
   "metadata": {},
   "outputs": [],
   "source": []
  }
 ],
 "metadata": {
  "kernelspec": {
   "display_name": "Python 3 (ipykernel)",
   "language": "python",
   "name": "python3"
  },
  "language_info": {
   "codemirror_mode": {
    "name": "ipython",
    "version": 3
   },
   "file_extension": ".py",
   "mimetype": "text/x-python",
   "name": "python",
   "nbconvert_exporter": "python",
   "pygments_lexer": "ipython3",
   "version": "3.11.5"
  }
 },
 "nbformat": 4,
 "nbformat_minor": 5
}
