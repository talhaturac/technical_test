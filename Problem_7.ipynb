{
 "cells": [
  {
   "cell_type": "markdown",
   "id": "0c17e3a2",
   "metadata": {},
   "source": [
    "Problem 7 - 10001st Prime\n",
    "\n",
    "By listing the first six prime numbers: 2,3,5,7,11, and 13, we can see that the 6th prime is 13.\n",
    "\n",
    "What is the 10001st prime number?\n",
    "\n",
    "(Talha Turaç TÜRK - Acrux Technical Interview)"
   ]
  },
  {
   "cell_type": "code",
   "execution_count": 1,
   "id": "ac0d12a1",
   "metadata": {},
   "outputs": [
    {
     "name": "stdout",
     "output_type": "stream",
     "text": [
      "104743\n"
     ]
    }
   ],
   "source": [
    "def check_prime_func(number):\n",
    "    if number < 2:\n",
    "        # 2'den küçük bir asal sayı olamaz\n",
    "        return 0\n",
    "    \n",
    "    else:\n",
    "        for i in range (2, int(number**0.5) + 1 , 1):\n",
    "            \"\"\"\n",
    "            Eğer bir sayı n asal değilse, o zaman n'i bölen iki çarpanı vardır: a ve b (n = a * b).\n",
    "            Eğer hem a hem de b, √n'den büyük olsaydı, a * b > n olurdu. Dolayısıyla, eğer n asal değilse, \n",
    "            mutlaka √n'ye kadar olan bir sayıya bölünebilir. Bu yüzden, sadece 2'den √n'ye kadar kontrol ederiz.\n",
    "            Buna asallık testi denir. (Via: Wikipedia)\n",
    "            \"\"\"\n",
    "            if (number % i == 0):\n",
    "                return 0\n",
    "        return 1\n",
    "\n",
    "def prime_10001():\n",
    "    counter = 0  # Kaç asal sayıya ulaştığımızı takip etmek için sayaç\n",
    "    sayi    = 0  # Başlangıç değeri & Sayılar 0'dan başlayarak kontrol edilir\n",
    "    \n",
    "    while counter < 10001:\n",
    "        sayi += 1\n",
    "        \n",
    "        if check_prime_func(sayi) == 1:\n",
    "            counter += 1\n",
    "            \n",
    "    return sayi\n",
    "\n",
    "###############################################################################\n",
    "\n",
    "print(prime_10001())"
   ]
  },
  {
   "cell_type": "code",
   "execution_count": null,
   "id": "c53df859",
   "metadata": {},
   "outputs": [],
   "source": []
  }
 ],
 "metadata": {
  "kernelspec": {
   "display_name": "Python 3 (ipykernel)",
   "language": "python",
   "name": "python3"
  },
  "language_info": {
   "codemirror_mode": {
    "name": "ipython",
    "version": 3
   },
   "file_extension": ".py",
   "mimetype": "text/x-python",
   "name": "python",
   "nbconvert_exporter": "python",
   "pygments_lexer": "ipython3",
   "version": "3.11.5"
  }
 },
 "nbformat": 4,
 "nbformat_minor": 5
}
